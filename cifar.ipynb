{
 "cells": [
  {
   "cell_type": "code",
   "execution_count": 1,
   "metadata": {},
   "outputs": [],
   "source": [
    "import  torch\n",
    "import torch.nn as nn\n",
    "import torch.nn.functional as F\n",
    "import torch.optim as optim\n",
    "import matplotlib.pyplot as plt\n",
    "import numpy as np"
   ]
  },
  {
   "cell_type": "code",
   "execution_count": 2,
   "metadata": {},
   "outputs": [
    {
     "data": {
      "text/plain": [
       "device(type='cuda')"
      ]
     },
     "execution_count": 2,
     "metadata": {},
     "output_type": "execute_result"
    }
   ],
   "source": [
    "device = torch.device(\"cuda\" if torch.cuda.is_available() else \"cpu\")\n",
    "device"
   ]
  },
  {
   "cell_type": "code",
   "execution_count": 3,
   "metadata": {},
   "outputs": [],
   "source": [
    "import torchvision\n",
    "import torchvision.transforms as transforms"
   ]
  },
  {
   "cell_type": "code",
   "execution_count": 4,
   "metadata": {},
   "outputs": [
    {
     "name": "stdout",
     "output_type": "stream",
     "text": [
      "Files already downloaded and verified\n",
      "Files already downloaded and verified\n",
      "50000\n",
      "10000\n",
      "782\n",
      "157\n"
     ]
    }
   ],
   "source": [
    "#loading the dataset\n",
    "train_dataset = torchvision.datasets.CIFAR10(root='./data', train=True, download=True, transform=transforms.ToTensor())\n",
    "test_dataset = torchvision.datasets.CIFAR10(root='./data', train=False, download=True, transform=transforms.ToTensor())\n",
    "train_loader = torch.utils.data.DataLoader(dataset=train_dataset, batch_size=64, shuffle=True)\n",
    "test_loader = torch.utils.data.DataLoader(dataset=test_dataset, batch_size=64, shuffle=False)\n",
    "classes = ('plane', 'car', 'bird', 'cat', 'deer', 'dog', 'frog', 'horse', 'ship', 'truck')\n",
    "print(len(train_dataset))\n",
    "print(len(test_dataset))\n",
    "print(len(train_loader))\n",
    "print(len(test_loader))"
   ]
  },
  {
   "cell_type": "code",
   "execution_count": 8,
   "metadata": {},
   "outputs": [
    {
     "name": "stdout",
     "output_type": "stream",
     "text": [
      "(10000, 32, 32, 3)\n",
      "(50000, 32, 32, 3)\n",
      "Dataset CIFAR10\n",
      "    Number of datapoints: 50000\n",
      "    Root location: ./data\n",
      "    Split: Train\n",
      "    StandardTransform\n",
      "Transform: ToTensor()\n"
     ]
    },
    {
     "data": {
      "text/plain": [
       "torch.Size([3, 32, 32])"
      ]
     },
     "execution_count": 8,
     "metadata": {},
     "output_type": "execute_result"
    }
   ],
   "source": [
    "print(test_dataset.data.shape) # 10000 images of 32x32 pixels with 3 channels\n",
    "print(train_dataset.data.shape) # 50000 images\n",
    "print(train_dataset)\n",
    "train_dataset.__getitem__(0)[0].shape\n"
   ]
  },
  {
   "cell_type": "code",
   "execution_count": 6,
   "metadata": {},
   "outputs": [
    {
     "name": "stdout",
     "output_type": "stream",
     "text": [
      "frog\n"
     ]
    },
    {
     "data": {
      "image/png": "[encoded data removed]",
      "text/plain": [
       "<Figure size 640x480 with 1 Axes>"
      ]
     },
     "metadata": {},
     "output_type": "display_data"
    }
   ],
   "source": [
    "def showimg(img):\n",
    "    img = plt.imshow(np.transpose(img, (1, 2, 0))) # convert from tensor to image,pytorch saves in channel first format, convert it to channel last format\n",
    "    plt.show()\n",
    "img, label = train_dataset[0]\n",
    "print(classes[label]) \n",
    "showimg(train_dataset[100][0].numpy())"
   ]
  },
  {
   "cell_type": "code",
   "execution_count": 10,
   "metadata": {},
   "outputs": [],
   "source": [
    "class ConvNet(torch.nn.Module):\n",
    "    def __init__(self):\n",
    "        super(ConvNet, self).__init__()\n",
    "        self.conv1 = nn.Conv2d(3, 6, 5) # 3 input channels, 6 output channels, 5x5 kernel\n",
    "        self.pool = nn.MaxPool2d(2, 2) # 2x2 pool\n",
    "        self.conv2 = nn.Conv2d(6, 16, 5) # 6 input channels, 16 output channels, 5x5 kernel\n",
    "        self.pool =nn.MaxPool2d(2, 2)\n",
    "        self.fc1 = nn.Linear(16*5*5, 120) # 16 channels of 5x5 pixels, 120 output channels\n",
    "        self.fc2 = nn.Linear(120, 84) # 120 input channels, 84 output channels\n",
    "        self.fc3 = nn.Linear(84, 10)\n",
    "    def forward(self, x):\n",
    "        x = self.pool(F.relu(self.conv1(x)))\n",
    "        x = self.pool(F.relu(self.conv2(x)))\n",
    "        x = x.view(-1, 16*5*5)\n",
    "        x = F.relu(self.fc1(x))\n",
    "        x = F.relu(self.fc2(x))\n",
    "        x = self.fc3(x)\n",
    "        return x \n",
    "    \n",
    "    "
   ]
  },
  {
   "cell_type": "code",
   "execution_count": 11,
   "metadata": {},
   "outputs": [],
   "source": [
    "model = ConvNet().to(device)\n",
    "criterion = nn.CrossEntropyLoss()\n",
    "optimizer = optim.SGD(model.parameters(), lr=0.001, momentum=0.9)\n"
   ]
  },
  {
   "cell_type": "code",
   "execution_count": 17,
   "metadata": {},
   "outputs": [
    {
     "name": "stdout",
     "output_type": "stream",
     "text": [
      "torch.Size([64, 3, 32, 32]) torch.Size([64])\n"
     ]
    }
   ],
   "source": [
    "inputs, labels = next(iter(train_loader))\n",
    "print(inputs.shape, labels.shape)\n"
   ]
  },
  {
   "cell_type": "code",
   "execution_count": 28,
   "metadata": {},
   "outputs": [
    {
     "name": "stdout",
     "output_type": "stream",
     "text": [
      "[1,   100] loss: 1.056\n",
      "[1,   200] loss: 1.107\n",
      "[1,   300] loss: 1.089\n",
      "[1,   400] loss: 1.092\n",
      "[1,   500] loss: 1.137\n",
      "[1,   600] loss: 1.084\n",
      "[1,   700] loss: 1.098\n",
      "[2,   100] loss: 1.093\n",
      "[2,   200] loss: 1.070\n",
      "[2,   300] loss: 1.089\n",
      "[2,   400] loss: 1.083\n",
      "[2,   500] loss: 1.087\n",
      "[2,   600] loss: 1.104\n",
      "[2,   700] loss: 1.072\n",
      "[3,   100] loss: 1.052\n",
      "[3,   200] loss: 1.080\n",
      "[3,   300] loss: 1.049\n",
      "[3,   400] loss: 1.044\n",
      "[3,   500] loss: 1.055\n",
      "[3,   600] loss: 1.082\n",
      "[3,   700] loss: 1.080\n",
      "[4,   100] loss: 1.031\n",
      "[4,   200] loss: 1.035\n",
      "[4,   300] loss: 1.054\n",
      "[4,   400] loss: 1.040\n",
      "[4,   500] loss: 1.080\n",
      "[4,   600] loss: 1.037\n",
      "[4,   700] loss: 1.058\n",
      "[5,   100] loss: 1.020\n",
      "[5,   200] loss: 1.014\n",
      "[5,   300] loss: 1.062\n",
      "[5,   400] loss: 1.034\n",
      "[5,   500] loss: 1.052\n",
      "[5,   600] loss: 1.050\n",
      "[5,   700] loss: 1.025\n",
      "[6,   100] loss: 1.000\n",
      "[6,   200] loss: 1.020\n",
      "[6,   300] loss: 1.032\n",
      "[6,   400] loss: 1.032\n",
      "[6,   500] loss: 1.007\n",
      "[6,   600] loss: 1.033\n",
      "[6,   700] loss: 1.041\n",
      "[7,   100] loss: 1.015\n",
      "[7,   200] loss: 1.007\n",
      "[7,   300] loss: 1.036\n",
      "[7,   400] loss: 1.009\n",
      "[7,   500] loss: 1.014\n",
      "[7,   600] loss: 0.983\n",
      "[7,   700] loss: 1.001\n",
      "[8,   100] loss: 0.999\n",
      "[8,   200] loss: 0.983\n",
      "[8,   300] loss: 0.987\n",
      "[8,   400] loss: 0.979\n",
      "[8,   500] loss: 0.992\n",
      "[8,   600] loss: 1.003\n",
      "[8,   700] loss: 0.983\n",
      "[9,   100] loss: 0.970\n",
      "[9,   200] loss: 0.951\n",
      "[9,   300] loss: 0.991\n",
      "[9,   400] loss: 0.981\n",
      "[9,   500] loss: 0.996\n",
      "[9,   600] loss: 0.991\n",
      "[9,   700] loss: 0.988\n",
      "[10,   100] loss: 0.947\n",
      "[10,   200] loss: 0.976\n",
      "[10,   300] loss: 0.989\n",
      "[10,   400] loss: 0.983\n",
      "[10,   500] loss: 0.964\n",
      "[10,   600] loss: 0.942\n",
      "[10,   700] loss: 0.977\n",
      "[11,   100] loss: 0.959\n",
      "[11,   200] loss: 0.937\n",
      "[11,   300] loss: 0.957\n",
      "[11,   400] loss: 0.966\n",
      "[11,   500] loss: 0.974\n",
      "[11,   600] loss: 0.967\n",
      "[11,   700] loss: 0.969\n",
      "[12,   100] loss: 0.923\n",
      "[12,   200] loss: 0.960\n",
      "[12,   300] loss: 0.927\n",
      "[12,   400] loss: 0.962\n",
      "[12,   500] loss: 0.937\n",
      "[12,   600] loss: 0.953\n",
      "[12,   700] loss: 0.950\n",
      "[13,   100] loss: 0.935\n",
      "[13,   200] loss: 0.923\n",
      "[13,   300] loss: 0.924\n",
      "[13,   400] loss: 0.929\n",
      "[13,   500] loss: 0.939\n",
      "[13,   600] loss: 0.927\n",
      "[13,   700] loss: 0.935\n",
      "[14,   100] loss: 0.872\n",
      "[14,   200] loss: 0.907\n",
      "[14,   300] loss: 0.925\n",
      "[14,   400] loss: 0.925\n",
      "[14,   500] loss: 0.915\n",
      "[14,   600] loss: 0.932\n",
      "[14,   700] loss: 0.953\n",
      "[15,   100] loss: 0.866\n",
      "[15,   200] loss: 0.932\n",
      "[15,   300] loss: 0.891\n",
      "[15,   400] loss: 0.919\n",
      "[15,   500] loss: 0.908\n",
      "[15,   600] loss: 0.912\n",
      "[15,   700] loss: 0.911\n",
      "[16,   100] loss: 0.878\n",
      "[16,   200] loss: 0.890\n",
      "[16,   300] loss: 0.882\n",
      "[16,   400] loss: 0.899\n",
      "[16,   500] loss: 0.918\n",
      "[16,   600] loss: 0.924\n",
      "[16,   700] loss: 0.906\n",
      "[17,   100] loss: 0.892\n",
      "[17,   200] loss: 0.886\n",
      "[17,   300] loss: 0.887\n",
      "[17,   400] loss: 0.890\n",
      "[17,   500] loss: 0.882\n",
      "[17,   600] loss: 0.881\n",
      "[17,   700] loss: 0.891\n",
      "[18,   100] loss: 0.856\n",
      "[18,   200] loss: 0.854\n",
      "[18,   300] loss: 0.887\n",
      "[18,   400] loss: 0.857\n",
      "[18,   500] loss: 0.866\n",
      "[18,   600] loss: 0.922\n",
      "[18,   700] loss: 0.885\n",
      "[19,   100] loss: 0.859\n",
      "[19,   200] loss: 0.848\n",
      "[19,   300] loss: 0.843\n",
      "[19,   400] loss: 0.864\n",
      "[19,   500] loss: 0.877\n",
      "[19,   600] loss: 0.865\n",
      "[19,   700] loss: 0.878\n",
      "[20,   100] loss: 0.844\n",
      "[20,   200] loss: 0.849\n",
      "[20,   300] loss: 0.857\n",
      "[20,   400] loss: 0.876\n",
      "[20,   500] loss: 0.852\n",
      "[20,   600] loss: 0.856\n",
      "[20,   700] loss: 0.862\n",
      "[21,   100] loss: 0.820\n",
      "[21,   200] loss: 0.859\n",
      "[21,   300] loss: 0.842\n",
      "[21,   400] loss: 0.835\n",
      "[21,   500] loss: 0.836\n",
      "[21,   600] loss: 0.858\n",
      "[21,   700] loss: 0.835\n",
      "[22,   100] loss: 0.817\n",
      "[22,   200] loss: 0.807\n",
      "[22,   300] loss: 0.814\n",
      "[22,   400] loss: 0.847\n",
      "[22,   500] loss: 0.813\n",
      "[22,   600] loss: 0.840\n",
      "[22,   700] loss: 0.877\n",
      "[23,   100] loss: 0.794\n",
      "[23,   200] loss: 0.813\n",
      "[23,   300] loss: 0.835\n",
      "[23,   400] loss: 0.830\n",
      "[23,   500] loss: 0.814\n",
      "[23,   600] loss: 0.839\n",
      "[23,   700] loss: 0.838\n",
      "[24,   100] loss: 0.783\n",
      "[24,   200] loss: 0.790\n",
      "[24,   300] loss: 0.789\n",
      "[24,   400] loss: 0.817\n",
      "[24,   500] loss: 0.857\n",
      "[24,   600] loss: 0.839\n",
      "[24,   700] loss: 0.808\n",
      "[25,   100] loss: 0.771\n",
      "[25,   200] loss: 0.800\n",
      "[25,   300] loss: 0.776\n",
      "[25,   400] loss: 0.792\n",
      "[25,   500] loss: 0.812\n",
      "[25,   600] loss: 0.827\n",
      "[25,   700] loss: 0.832\n",
      "[26,   100] loss: 0.780\n",
      "[26,   200] loss: 0.770\n",
      "[26,   300] loss: 0.802\n",
      "[26,   400] loss: 0.792\n",
      "[26,   500] loss: 0.785\n",
      "[26,   600] loss: 0.795\n",
      "[26,   700] loss: 0.808\n",
      "[27,   100] loss: 0.778\n",
      "[27,   200] loss: 0.757\n",
      "[27,   300] loss: 0.788\n",
      "[27,   400] loss: 0.783\n",
      "[27,   500] loss: 0.795\n",
      "[27,   600] loss: 0.791\n",
      "[27,   700] loss: 0.777\n",
      "[28,   100] loss: 0.748\n",
      "[28,   200] loss: 0.763\n",
      "[28,   300] loss: 0.786\n",
      "[28,   400] loss: 0.760\n",
      "[28,   500] loss: 0.786\n",
      "[28,   600] loss: 0.757\n",
      "[28,   700] loss: 0.780\n",
      "[29,   100] loss: 0.752\n",
      "[29,   200] loss: 0.744\n",
      "[29,   300] loss: 0.758\n",
      "[29,   400] loss: 0.754\n",
      "[29,   500] loss: 0.782\n",
      "[29,   600] loss: 0.759\n",
      "[29,   700] loss: 0.764\n",
      "[30,   100] loss: 0.757\n",
      "[30,   200] loss: 0.731\n",
      "[30,   300] loss: 0.747\n",
      "[30,   400] loss: 0.738\n",
      "[30,   500] loss: 0.733\n",
      "[30,   600] loss: 0.762\n",
      "[30,   700] loss: 0.757\n",
      " Training is complete\n"
     ]
    }
   ],
   "source": [
    "n_epochs = 30\n",
    "for epoch in range(n_epochs):\n",
    "    running_loss = 0.0\n",
    "    for i, (inputs,labels) in enumerate(train_loader):\n",
    "        inputs, labels = inputs.to(device), labels.to(device)\n",
    "        optimizer.zero_grad() #This clears the gradients from the previous iteration.\n",
    "        outputs = model(inputs)\n",
    "        loss = criterion(outputs, labels)\n",
    "        loss.backward()\n",
    "        optimizer.step()\n",
    "        running_loss += loss.item()\n",
    "        if i % 100 == 99:\n",
    "            print('[%d, %5d] loss: %.3f' % (epoch + 1, i + 1, running_loss / 100))\n",
    "            running_loss = 0.0\n",
    "    \n",
    "print(' Training is complete')"
   ]
  },
  {
   "cell_type": "code",
   "execution_count": 29,
   "metadata": {},
   "outputs": [
    {
     "name": "stdout",
     "output_type": "stream",
     "text": [
      "Accuracy of the network: 62.77 %\n",
      "Accuracy of plane: 68.6 %\n",
      "Accuracy of car: 71.9 %\n",
      "Accuracy of bird: 44.6 %\n",
      "Accuracy of cat: 37.7 %\n",
      "Accuracy of deer: 59.1 %\n",
      "Accuracy of dog: 46.1 %\n",
      "Accuracy of frog: 73.5 %\n",
      "Accuracy of horse: 75.8 %\n",
      "Accuracy of ship: 72.2 %\n",
      "Accuracy of truck: 78.2 %\n"
     ]
    }
   ],
   "source": [
    "with torch.no_grad():\n",
    "    n_correct = 0\n",
    "    n_samples = 0\n",
    "    n_class_correct = [0 for i in range(10)]\n",
    "    n_class_samples = [0 for i in range(10)]\n",
    "    for inputs, labels in test_loader:\n",
    "        inputs, labels = inputs.to(device), labels.to(device)\n",
    "        outputs = model(inputs)\n",
    "        _, predicted = torch.max(outputs, 1)\n",
    "        n_samples += labels.size(0)\n",
    "        n_correct += (predicted == labels).sum().item()\n",
    "        for i in range(labels.size(0)):  # Use actual batch size instead of hardcoded 64\n",
    "            label = labels[i]\n",
    "            pred = predicted[i]\n",
    "            if (label == pred):\n",
    "                n_class_correct[label] += 1\n",
    "            n_class_samples[label] += 1\n",
    "            \n",
    "acc = 100.0 * n_correct / n_samples\n",
    "print(f'Accuracy of the network: {acc} %')\n",
    "for i in range(10):\n",
    "    acc = 100.0 * n_class_correct[i] / n_class_samples[i]\n",
    "    print(f'Accuracy of {classes[i]}: {acc} %')"
   ]
  },
  {
   "cell_type": "markdown",
   "metadata": {},
   "source": [
    "For 30 epochs the overall acuuuracy was **62.77%**\n",
    "\n",
    "# Lets Try to improve the accuracy of this model :\n"
   ]
  },
  {
   "cell_type": "code",
   "execution_count": null,
   "metadata": {},
   "outputs": [],
   "source": []
  },
  {
   "cell_type": "code",
   "execution_count": null,
   "metadata": {},
   "outputs": [],
   "source": [
    "n_epochs = 30\n",
    "for epoch in range(n_epochs):\n",
    "    running_loss = 0.0\n",
    "    for i, (inputs,labels) in enumerate(train_loader):\n",
    "        inputs, labels = inputs.to(device), labels.to(device)\n",
    "        optimizer.zero_grad() #This clears the gradients from the previous iteration.\n",
    "        outputs = model(inputs)\n",
    "        loss = criterion(outputs, labels)\n",
    "        loss.backward()\n",
    "        optimizer.step()\n",
    "        running_loss += loss.item()\n",
    "        if i % 100 == 99:\n",
    "            print('[%d, %5d] loss: %.3f' % (epoch + 1, i + 1, running_loss / 100))\n",
    "            running_loss = 0.0\n",
    "    \n",
    "print(' Training is complete')"
   ]
  }
 ],
 "metadata": {
  "kernelspec": {
   "display_name": "myenvt",
   "language": "python",
   "name": "python3"
  },
  "language_info": {
   "codemirror_mode": {
    "name": "ipython",
    "version": 3
   },
   "file_extension": ".py",
   "mimetype": "text/x-python",
   "name": "python",
   "nbconvert_exporter": "python",
   "pygments_lexer": "ipython3",
   "version": "3.12.7"
  }
 },
 "nbformat": 4,
 "nbformat_minor": 2
}
